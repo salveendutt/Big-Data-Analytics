{
 "cells": [
  {
   "cell_type": "markdown",
   "metadata": {},
   "source": [
    "# ML. Dataset: 'Credit Card Transactions Synthetic Data Generation' from Kaggle\n",
    "\n",
    "This Jupyter notebook is for preliminary training and testing of ML models for fraud detection on dataset 3."
   ]
  },
  {
   "cell_type": "code",
   "execution_count": 1,
   "metadata": {},
   "outputs": [],
   "source": [
    "import pandas as pd\n",
    "import matplotlib.pyplot as plt\n",
    "from sklearn.model_selection import train_test_split\n",
    "from sklearn.ensemble import RandomForestClassifier\n",
    "from sklearn.metrics import accuracy_score, f1_score, precision_score, recall_score"
   ]
  },
  {
   "cell_type": "code",
   "execution_count": 2,
   "metadata": {},
   "outputs": [
    {
     "name": "stdout",
     "output_type": "stream",
     "text": [
      "rows: 1785308\n"
     ]
    },
    {
     "data": {
      "text/html": [
       "<div>\n",
       "<style scoped>\n",
       "    .dataframe tbody tr th:only-of-type {\n",
       "        vertical-align: middle;\n",
       "    }\n",
       "\n",
       "    .dataframe tbody tr th {\n",
       "        vertical-align: top;\n",
       "    }\n",
       "\n",
       "    .dataframe thead th {\n",
       "        text-align: right;\n",
       "    }\n",
       "</style>\n",
       "<table border=\"1\" class=\"dataframe\">\n",
       "  <thead>\n",
       "    <tr style=\"text-align: right;\">\n",
       "      <th></th>\n",
       "      <th>transaction_id</th>\n",
       "      <th>post_ts</th>\n",
       "      <th>customer_id</th>\n",
       "      <th>bin</th>\n",
       "      <th>terminal_id</th>\n",
       "      <th>amt</th>\n",
       "      <th>entry_mode</th>\n",
       "      <th>fraud</th>\n",
       "      <th>fraud_scenario</th>\n",
       "    </tr>\n",
       "  </thead>\n",
       "  <tbody>\n",
       "    <tr>\n",
       "      <th>0</th>\n",
       "      <td>OyWUo6ruReKft-P_QtjJbQ</td>\n",
       "      <td>2023-02-01 00:00:30</td>\n",
       "      <td>C00005143</td>\n",
       "      <td>424208</td>\n",
       "      <td>T001014</td>\n",
       "      <td>38.97</td>\n",
       "      <td>Contactless</td>\n",
       "      <td>0</td>\n",
       "      <td>0</td>\n",
       "    </tr>\n",
       "    <tr>\n",
       "      <th>1</th>\n",
       "      <td>rrgYMZWnRK6kKtWqlGN6HA</td>\n",
       "      <td>2023-02-01 00:00:54</td>\n",
       "      <td>C00002570</td>\n",
       "      <td>364329</td>\n",
       "      <td>T001023</td>\n",
       "      <td>84.07</td>\n",
       "      <td>Contactless</td>\n",
       "      <td>0</td>\n",
       "      <td>0</td>\n",
       "    </tr>\n",
       "    <tr>\n",
       "      <th>2</th>\n",
       "      <td>H4G-WgpGQluYWIT17jdN8Q</td>\n",
       "      <td>2023-02-01 00:01:13</td>\n",
       "      <td>C00005507</td>\n",
       "      <td>455573</td>\n",
       "      <td>T001024</td>\n",
       "      <td>113.18</td>\n",
       "      <td>Contactless</td>\n",
       "      <td>0</td>\n",
       "      <td>0</td>\n",
       "    </tr>\n",
       "    <tr>\n",
       "      <th>3</th>\n",
       "      <td>_4WehzsiRCK2WA8LTBkvsA</td>\n",
       "      <td>2023-02-01 00:01:57</td>\n",
       "      <td>C00003688</td>\n",
       "      <td>552755</td>\n",
       "      <td>T001064</td>\n",
       "      <td>28.96</td>\n",
       "      <td>Chip</td>\n",
       "      <td>0</td>\n",
       "      <td>0</td>\n",
       "    </tr>\n",
       "    <tr>\n",
       "      <th>4</th>\n",
       "      <td>81or3lX-Q9-2EEOfOgLCEQ</td>\n",
       "      <td>2023-02-01 00:01:57</td>\n",
       "      <td>C00003353</td>\n",
       "      <td>465808</td>\n",
       "      <td>T001097</td>\n",
       "      <td>65.45</td>\n",
       "      <td>Chip</td>\n",
       "      <td>0</td>\n",
       "      <td>0</td>\n",
       "    </tr>\n",
       "  </tbody>\n",
       "</table>\n",
       "</div>"
      ],
      "text/plain": [
       "           transaction_id              post_ts customer_id     bin  \\\n",
       "0  OyWUo6ruReKft-P_QtjJbQ  2023-02-01 00:00:30   C00005143  424208   \n",
       "1  rrgYMZWnRK6kKtWqlGN6HA  2023-02-01 00:00:54   C00002570  364329   \n",
       "2  H4G-WgpGQluYWIT17jdN8Q  2023-02-01 00:01:13   C00005507  455573   \n",
       "3  _4WehzsiRCK2WA8LTBkvsA  2023-02-01 00:01:57   C00003688  552755   \n",
       "4  81or3lX-Q9-2EEOfOgLCEQ  2023-02-01 00:01:57   C00003353  465808   \n",
       "\n",
       "  terminal_id     amt   entry_mode  fraud  fraud_scenario  \n",
       "0     T001014   38.97  Contactless      0               0  \n",
       "1     T001023   84.07  Contactless      0               0  \n",
       "2     T001024  113.18  Contactless      0               0  \n",
       "3     T001064   28.96         Chip      0               0  \n",
       "4     T001097   65.45         Chip      0               0  "
      ]
     },
     "execution_count": 2,
     "metadata": {},
     "output_type": "execute_result"
    }
   ],
   "source": [
    "df = pd.read_csv(\"../datasets/3/transactions_df.csv\")\n",
    "print(f\"rows: {len(df)}\")\n",
    "df.head()"
   ]
  },
  {
   "cell_type": "code",
   "execution_count": 3,
   "metadata": {},
   "outputs": [
    {
     "data": {
      "text/html": [
       "<div>\n",
       "<style scoped>\n",
       "    .dataframe tbody tr th:only-of-type {\n",
       "        vertical-align: middle;\n",
       "    }\n",
       "\n",
       "    .dataframe tbody tr th {\n",
       "        vertical-align: top;\n",
       "    }\n",
       "\n",
       "    .dataframe thead th {\n",
       "        text-align: right;\n",
       "    }\n",
       "</style>\n",
       "<table border=\"1\" class=\"dataframe\">\n",
       "  <thead>\n",
       "    <tr style=\"text-align: right;\">\n",
       "      <th></th>\n",
       "      <th>transaction_id</th>\n",
       "      <th>post_ts</th>\n",
       "      <th>customer_id</th>\n",
       "      <th>bin</th>\n",
       "      <th>terminal_id</th>\n",
       "      <th>amt</th>\n",
       "      <th>entry_mode</th>\n",
       "      <th>fraud</th>\n",
       "      <th>fraud_scenario</th>\n",
       "    </tr>\n",
       "  </thead>\n",
       "  <tbody>\n",
       "    <tr>\n",
       "      <th>0</th>\n",
       "      <td>OyWUo6ruReKft-P_QtjJbQ</td>\n",
       "      <td>2023-02-01 00:00:30</td>\n",
       "      <td>C00005143</td>\n",
       "      <td>424208</td>\n",
       "      <td>T001014</td>\n",
       "      <td>38.97</td>\n",
       "      <td>1</td>\n",
       "      <td>0</td>\n",
       "      <td>0</td>\n",
       "    </tr>\n",
       "    <tr>\n",
       "      <th>1</th>\n",
       "      <td>rrgYMZWnRK6kKtWqlGN6HA</td>\n",
       "      <td>2023-02-01 00:00:54</td>\n",
       "      <td>C00002570</td>\n",
       "      <td>364329</td>\n",
       "      <td>T001023</td>\n",
       "      <td>84.07</td>\n",
       "      <td>1</td>\n",
       "      <td>0</td>\n",
       "      <td>0</td>\n",
       "    </tr>\n",
       "    <tr>\n",
       "      <th>2</th>\n",
       "      <td>H4G-WgpGQluYWIT17jdN8Q</td>\n",
       "      <td>2023-02-01 00:01:13</td>\n",
       "      <td>C00005507</td>\n",
       "      <td>455573</td>\n",
       "      <td>T001024</td>\n",
       "      <td>113.18</td>\n",
       "      <td>1</td>\n",
       "      <td>0</td>\n",
       "      <td>0</td>\n",
       "    </tr>\n",
       "    <tr>\n",
       "      <th>3</th>\n",
       "      <td>_4WehzsiRCK2WA8LTBkvsA</td>\n",
       "      <td>2023-02-01 00:01:57</td>\n",
       "      <td>C00003688</td>\n",
       "      <td>552755</td>\n",
       "      <td>T001064</td>\n",
       "      <td>28.96</td>\n",
       "      <td>0</td>\n",
       "      <td>0</td>\n",
       "      <td>0</td>\n",
       "    </tr>\n",
       "    <tr>\n",
       "      <th>4</th>\n",
       "      <td>81or3lX-Q9-2EEOfOgLCEQ</td>\n",
       "      <td>2023-02-01 00:01:57</td>\n",
       "      <td>C00003353</td>\n",
       "      <td>465808</td>\n",
       "      <td>T001097</td>\n",
       "      <td>65.45</td>\n",
       "      <td>0</td>\n",
       "      <td>0</td>\n",
       "      <td>0</td>\n",
       "    </tr>\n",
       "  </tbody>\n",
       "</table>\n",
       "</div>"
      ],
      "text/plain": [
       "           transaction_id              post_ts customer_id     bin  \\\n",
       "0  OyWUo6ruReKft-P_QtjJbQ  2023-02-01 00:00:30   C00005143  424208   \n",
       "1  rrgYMZWnRK6kKtWqlGN6HA  2023-02-01 00:00:54   C00002570  364329   \n",
       "2  H4G-WgpGQluYWIT17jdN8Q  2023-02-01 00:01:13   C00005507  455573   \n",
       "3  _4WehzsiRCK2WA8LTBkvsA  2023-02-01 00:01:57   C00003688  552755   \n",
       "4  81or3lX-Q9-2EEOfOgLCEQ  2023-02-01 00:01:57   C00003353  465808   \n",
       "\n",
       "  terminal_id     amt  entry_mode  fraud  fraud_scenario  \n",
       "0     T001014   38.97           1      0               0  \n",
       "1     T001023   84.07           1      0               0  \n",
       "2     T001024  113.18           1      0               0  \n",
       "3     T001064   28.96           0      0               0  \n",
       "4     T001097   65.45           0      0               0  "
      ]
     },
     "execution_count": 3,
     "metadata": {},
     "output_type": "execute_result"
    }
   ],
   "source": [
    "df[\"entry_mode\"] = df[\"entry_mode\"].astype(\"category\").cat.codes\n",
    "df.head()"
   ]
  },
  {
   "cell_type": "code",
   "execution_count": 4,
   "metadata": {},
   "outputs": [],
   "source": [
    "y = df[\"fraud\"]\n",
    "X = df.drop(\n",
    "    columns=[\"fraud\", \"transaction_id\", \"post_ts\", \"customer_id\", \"terminal_id\"]\n",
    ")\n",
    "X_train, X_test, y_train, y_test = train_test_split(\n",
    "    X, y, test_size=0.2, stratify=y, random_state=2025\n",
    ")"
   ]
  },
  {
   "cell_type": "code",
   "execution_count": 5,
   "metadata": {},
   "outputs": [
    {
     "name": "stdout",
     "output_type": "stream",
     "text": [
      "Accuracy: 1.00000\n",
      "Recall: 1.00000\n",
      "Precision: 1.00000\n",
      "Weighted F1 Score: 1.00000\n"
     ]
    }
   ],
   "source": [
    "rf = RandomForestClassifier(n_estimators=10, random_state=2025)\n",
    "rf.fit(X_train, y_train)\n",
    "\n",
    "y_pred = rf.predict(X_test)\n",
    "f1_weighted = f1_score(y_test, y_pred, average=\"weighted\")\n",
    "accuracy = accuracy_score(y_test, y_pred)\n",
    "precision = precision_score(y_test, y_pred)\n",
    "recall = recall_score(y_test, y_pred)\n",
    "print(f\"Accuracy: {accuracy:.5f}\")\n",
    "print(f\"Recall: {recall:.5f}\")\n",
    "print(f\"Precision: {precision:.5f}\")\n",
    "print(f\"Weighted F1 Score: {f1_weighted:.5f}\")"
   ]
  },
  {
   "cell_type": "code",
   "execution_count": 6,
   "metadata": {},
   "outputs": [
    {
     "name": "stdout",
     "output_type": "stream",
     "text": [
      "Accuracy: 0.96999\n",
      "Recall: 0.00000\n",
      "Precision: 0.00000\n",
      "Weighted F1 Score: 0.95522\n"
     ]
    },
    {
     "name": "stderr",
     "output_type": "stream",
     "text": [
      "c:\\Users\\megav\\anaconda3\\envs\\iml-10\\lib\\site-packages\\sklearn\\metrics\\_classification.py:1469: UndefinedMetricWarning: Precision is ill-defined and being set to 0.0 due to no predicted samples. Use `zero_division` parameter to control this behavior.\n",
      "  _warn_prf(average, modifier, msg_start, len(result))\n"
     ]
    }
   ],
   "source": [
    "from sklearn.linear_model import LogisticRegression\n",
    "\n",
    "model = LogisticRegression()\n",
    "model.fit(X_train, y_train)\n",
    "\n",
    "y_pred = model.predict(X_test)\n",
    "f1_weighted = f1_score(y_test, y_pred, average=\"weighted\")\n",
    "accuracy = accuracy_score(y_test, y_pred)\n",
    "precision = precision_score(y_test, y_pred)\n",
    "recall = recall_score(y_test, y_pred)\n",
    "print(f\"Accuracy: {accuracy:.5f}\")\n",
    "print(f\"Recall: {recall:.5f}\")\n",
    "print(f\"Precision: {precision:.5f}\")\n",
    "print(f\"Weighted F1 Score: {f1_weighted:.5f}\")"
   ]
  },
  {
   "cell_type": "code",
   "execution_count": null,
   "metadata": {},
   "outputs": [],
   "source": [
    "from sklearn.svm import SVC\n",
    "\n",
    "model = SVC(class_weight=\"balanced\", kernel=\"linear\")\n",
    "model.fit(X_train, y_train)\n",
    "\n",
    "y_pred = model.predict(X_test)\n",
    "f1_weighted = f1_score(y_test, y_pred, average=\"weighted\")\n",
    "accuracy = accuracy_score(y_test, y_pred)\n",
    "precision = precision_score(y_test, y_pred)\n",
    "recall = recall_score(y_test, y_pred)\n",
    "print(f\"Accuracy: {accuracy:.5f}\")\n",
    "print(f\"Recall: {recall:.5f}\")\n",
    "print(f\"Precision: {precision:.5f}\")\n",
    "print(f\"Weighted F1 Score: {f1_weighted:.5f}\")"
   ]
  },
  {
   "cell_type": "code",
   "execution_count": 5,
   "metadata": {},
   "outputs": [
    {
     "name": "stdout",
     "output_type": "stream",
     "text": [
      "Accuracy: 0.96985\n",
      "Recall: 0.10090\n",
      "Precision: 0.48848\n",
      "Weighted F1 Score: 0.96012\n"
     ]
    }
   ],
   "source": [
    "from sklearn.naive_bayes import GaussianNB\n",
    "\n",
    "model = GaussianNB()\n",
    "model.fit(X_train, y_train)\n",
    "\n",
    "y_pred = model.predict(X_test)\n",
    "f1_weighted = f1_score(y_test, y_pred, average=\"weighted\")\n",
    "accuracy = accuracy_score(y_test, y_pred)\n",
    "precision = precision_score(y_test, y_pred)\n",
    "recall = recall_score(y_test, y_pred)\n",
    "print(f\"Accuracy: {accuracy:.5f}\")\n",
    "print(f\"Recall: {recall:.5f}\")\n",
    "print(f\"Precision: {precision:.5f}\")\n",
    "print(f\"Weighted F1 Score: {f1_weighted:.5f}\")"
   ]
  },
  {
   "cell_type": "code",
   "execution_count": 6,
   "metadata": {},
   "outputs": [
    {
     "name": "stdout",
     "output_type": "stream",
     "text": [
      "Accuracy: 1.00000\n",
      "Recall: 1.00000\n",
      "Precision: 1.00000\n",
      "Weighted F1 Score: 1.00000\n"
     ]
    }
   ],
   "source": [
    "from sklearn.ensemble import GradientBoostingClassifier\n",
    "\n",
    "model = GradientBoostingClassifier()\n",
    "model.fit(X_train, y_train)\n",
    "\n",
    "y_pred = model.predict(X_test)\n",
    "f1_weighted = f1_score(y_test, y_pred, average=\"weighted\")\n",
    "accuracy = accuracy_score(y_test, y_pred)\n",
    "precision = precision_score(y_test, y_pred)\n",
    "recall = recall_score(y_test, y_pred)\n",
    "print(f\"Accuracy: {accuracy:.5f}\")\n",
    "print(f\"Recall: {recall:.5f}\")\n",
    "print(f\"Precision: {precision:.5f}\")\n",
    "print(f\"Weighted F1 Score: {f1_weighted:.5f}\")"
   ]
  }
 ],
 "metadata": {
  "kernelspec": {
   "display_name": "iml-10",
   "language": "python",
   "name": "python3"
  },
  "language_info": {
   "codemirror_mode": {
    "name": "ipython",
    "version": 3
   },
   "file_extension": ".py",
   "mimetype": "text/x-python",
   "name": "python",
   "nbconvert_exporter": "python",
   "pygments_lexer": "ipython3",
   "version": "3.10.13"
  }
 },
 "nbformat": 4,
 "nbformat_minor": 2
}
