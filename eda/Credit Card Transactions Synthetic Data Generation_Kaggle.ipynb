{
 "cells": [
  {
   "cell_type": "markdown",
   "metadata": {},
   "source": [
    "# EDA. Dataset: 'Credit Card Transactions Synthetic Data Generation' from Kaggle\n",
    "\n",
    "https://www.kaggle.com/datasets/cgrodrigues/credit-card-transactions-synthetic-data-generation?select=transactions_df.csv"
   ]
  },
  {
   "cell_type": "code",
   "execution_count": 4,
   "metadata": {},
   "outputs": [
    {
     "name": "stdout",
     "output_type": "stream",
     "text": [
      "rows: 1785308\n"
     ]
    },
    {
     "data": {
      "text/html": [
       "<div>\n",
       "<style scoped>\n",
       "    .dataframe tbody tr th:only-of-type {\n",
       "        vertical-align: middle;\n",
       "    }\n",
       "\n",
       "    .dataframe tbody tr th {\n",
       "        vertical-align: top;\n",
       "    }\n",
       "\n",
       "    .dataframe thead th {\n",
       "        text-align: right;\n",
       "    }\n",
       "</style>\n",
       "<table border=\"1\" class=\"dataframe\">\n",
       "  <thead>\n",
       "    <tr style=\"text-align: right;\">\n",
       "      <th></th>\n",
       "      <th>transaction_id</th>\n",
       "      <th>post_ts</th>\n",
       "      <th>customer_id</th>\n",
       "      <th>bin</th>\n",
       "      <th>terminal_id</th>\n",
       "      <th>amt</th>\n",
       "      <th>entry_mode</th>\n",
       "      <th>fraud</th>\n",
       "      <th>fraud_scenario</th>\n",
       "    </tr>\n",
       "  </thead>\n",
       "  <tbody>\n",
       "    <tr>\n",
       "      <th>0</th>\n",
       "      <td>OyWUo6ruReKft-P_QtjJbQ</td>\n",
       "      <td>2023-02-01 00:00:30</td>\n",
       "      <td>C00005143</td>\n",
       "      <td>424208</td>\n",
       "      <td>T001014</td>\n",
       "      <td>38.97</td>\n",
       "      <td>Contactless</td>\n",
       "      <td>0</td>\n",
       "      <td>0</td>\n",
       "    </tr>\n",
       "    <tr>\n",
       "      <th>1</th>\n",
       "      <td>rrgYMZWnRK6kKtWqlGN6HA</td>\n",
       "      <td>2023-02-01 00:00:54</td>\n",
       "      <td>C00002570</td>\n",
       "      <td>364329</td>\n",
       "      <td>T001023</td>\n",
       "      <td>84.07</td>\n",
       "      <td>Contactless</td>\n",
       "      <td>0</td>\n",
       "      <td>0</td>\n",
       "    </tr>\n",
       "    <tr>\n",
       "      <th>2</th>\n",
       "      <td>H4G-WgpGQluYWIT17jdN8Q</td>\n",
       "      <td>2023-02-01 00:01:13</td>\n",
       "      <td>C00005507</td>\n",
       "      <td>455573</td>\n",
       "      <td>T001024</td>\n",
       "      <td>113.18</td>\n",
       "      <td>Contactless</td>\n",
       "      <td>0</td>\n",
       "      <td>0</td>\n",
       "    </tr>\n",
       "    <tr>\n",
       "      <th>3</th>\n",
       "      <td>_4WehzsiRCK2WA8LTBkvsA</td>\n",
       "      <td>2023-02-01 00:01:57</td>\n",
       "      <td>C00003688</td>\n",
       "      <td>552755</td>\n",
       "      <td>T001064</td>\n",
       "      <td>28.96</td>\n",
       "      <td>Chip</td>\n",
       "      <td>0</td>\n",
       "      <td>0</td>\n",
       "    </tr>\n",
       "    <tr>\n",
       "      <th>4</th>\n",
       "      <td>81or3lX-Q9-2EEOfOgLCEQ</td>\n",
       "      <td>2023-02-01 00:01:57</td>\n",
       "      <td>C00003353</td>\n",
       "      <td>465808</td>\n",
       "      <td>T001097</td>\n",
       "      <td>65.45</td>\n",
       "      <td>Chip</td>\n",
       "      <td>0</td>\n",
       "      <td>0</td>\n",
       "    </tr>\n",
       "  </tbody>\n",
       "</table>\n",
       "</div>"
      ],
      "text/plain": [
       "           transaction_id              post_ts customer_id     bin  \\\n",
       "0  OyWUo6ruReKft-P_QtjJbQ  2023-02-01 00:00:30   C00005143  424208   \n",
       "1  rrgYMZWnRK6kKtWqlGN6HA  2023-02-01 00:00:54   C00002570  364329   \n",
       "2  H4G-WgpGQluYWIT17jdN8Q  2023-02-01 00:01:13   C00005507  455573   \n",
       "3  _4WehzsiRCK2WA8LTBkvsA  2023-02-01 00:01:57   C00003688  552755   \n",
       "4  81or3lX-Q9-2EEOfOgLCEQ  2023-02-01 00:01:57   C00003353  465808   \n",
       "\n",
       "  terminal_id     amt   entry_mode  fraud  fraud_scenario  \n",
       "0     T001014   38.97  Contactless      0               0  \n",
       "1     T001023   84.07  Contactless      0               0  \n",
       "2     T001024  113.18  Contactless      0               0  \n",
       "3     T001064   28.96         Chip      0               0  \n",
       "4     T001097   65.45         Chip      0               0  "
      ]
     },
     "execution_count": 4,
     "metadata": {},
     "output_type": "execute_result"
    }
   ],
   "source": [
    "import pandas as pd\n",
    "import matplotlib.pyplot as plt\n",
    "\n",
    "df = pd.read_csv('../datasets/3/transactions_df.csv')\n",
    "df_customers = pd.read_csv('../datasets/3/customer_profiles_table.csv')\n",
    "df_terminals = pd.read_csv('../datasets/3/terminal_profiles_table.csv')\n",
    "print(f'rows: {len(df)}')\n",
    "df.head()"
   ]
  },
  {
   "cell_type": "code",
   "execution_count": 2,
   "metadata": {},
   "outputs": [
    {
     "data": {
      "text/html": [
       "<div>\n",
       "<style scoped>\n",
       "    .dataframe tbody tr th:only-of-type {\n",
       "        vertical-align: middle;\n",
       "    }\n",
       "\n",
       "    .dataframe tbody tr th {\n",
       "        vertical-align: top;\n",
       "    }\n",
       "\n",
       "    .dataframe thead th {\n",
       "        text-align: right;\n",
       "    }\n",
       "</style>\n",
       "<table border=\"1\" class=\"dataframe\">\n",
       "  <thead>\n",
       "    <tr style=\"text-align: right;\">\n",
       "      <th></th>\n",
       "      <th>customer_id</th>\n",
       "      <th>mean_amount</th>\n",
       "      <th>std_amount</th>\n",
       "      <th>mean_nb_tx_per_day</th>\n",
       "      <th>network_id</th>\n",
       "      <th>bin</th>\n",
       "      <th>lat_customer</th>\n",
       "      <th>log_customer</th>\n",
       "      <th>available_terminals</th>\n",
       "      <th>nb_terminals</th>\n",
       "    </tr>\n",
       "  </thead>\n",
       "  <tbody>\n",
       "    <tr>\n",
       "      <th>0</th>\n",
       "      <td>C00001000</td>\n",
       "      <td>73.322301</td>\n",
       "      <td>36.661151</td>\n",
       "      <td>1.596367</td>\n",
       "      <td>A</td>\n",
       "      <td>375601</td>\n",
       "      <td>39.1764</td>\n",
       "      <td>7.4727</td>\n",
       "      <td>['T001057', 'T001055', 'T001088']</td>\n",
       "      <td>3</td>\n",
       "    </tr>\n",
       "    <tr>\n",
       "      <th>1</th>\n",
       "      <td>C00001001</td>\n",
       "      <td>52.436549</td>\n",
       "      <td>26.218275</td>\n",
       "      <td>3.823199</td>\n",
       "      <td>M</td>\n",
       "      <td>557888</td>\n",
       "      <td>40.1618</td>\n",
       "      <td>7.8099</td>\n",
       "      <td>['T001081', 'T001026', 'T001084', 'T001005', '...</td>\n",
       "      <td>9</td>\n",
       "    </tr>\n",
       "    <tr>\n",
       "      <th>2</th>\n",
       "      <td>C00001002</td>\n",
       "      <td>42.736666</td>\n",
       "      <td>21.368333</td>\n",
       "      <td>0.318204</td>\n",
       "      <td>M</td>\n",
       "      <td>520629</td>\n",
       "      <td>41.7134</td>\n",
       "      <td>7.8095</td>\n",
       "      <td>['T001025', 'T001060', 'T001036', 'T001020', '...</td>\n",
       "      <td>6</td>\n",
       "    </tr>\n",
       "    <tr>\n",
       "      <th>3</th>\n",
       "      <td>C00001003</td>\n",
       "      <td>88.745062</td>\n",
       "      <td>44.372531</td>\n",
       "      <td>0.145826</td>\n",
       "      <td>V</td>\n",
       "      <td>409102</td>\n",
       "      <td>37.0995</td>\n",
       "      <td>8.2410</td>\n",
       "      <td>['T001031', 'T001046']</td>\n",
       "      <td>2</td>\n",
       "    </tr>\n",
       "    <tr>\n",
       "      <th>4</th>\n",
       "      <td>C00001004</td>\n",
       "      <td>66.213599</td>\n",
       "      <td>33.106799</td>\n",
       "      <td>0.119985</td>\n",
       "      <td>A</td>\n",
       "      <td>375617</td>\n",
       "      <td>41.9495</td>\n",
       "      <td>8.6954</td>\n",
       "      <td>['T001091', 'T001014', 'T001071']</td>\n",
       "      <td>3</td>\n",
       "    </tr>\n",
       "  </tbody>\n",
       "</table>\n",
       "</div>"
      ],
      "text/plain": [
       "  customer_id  mean_amount  std_amount  mean_nb_tx_per_day network_id     bin  \\\n",
       "0   C00001000    73.322301   36.661151            1.596367          A  375601   \n",
       "1   C00001001    52.436549   26.218275            3.823199          M  557888   \n",
       "2   C00001002    42.736666   21.368333            0.318204          M  520629   \n",
       "3   C00001003    88.745062   44.372531            0.145826          V  409102   \n",
       "4   C00001004    66.213599   33.106799            0.119985          A  375617   \n",
       "\n",
       "   lat_customer  log_customer  \\\n",
       "0       39.1764        7.4727   \n",
       "1       40.1618        7.8099   \n",
       "2       41.7134        7.8095   \n",
       "3       37.0995        8.2410   \n",
       "4       41.9495        8.6954   \n",
       "\n",
       "                                 available_terminals  nb_terminals  \n",
       "0                  ['T001057', 'T001055', 'T001088']             3  \n",
       "1  ['T001081', 'T001026', 'T001084', 'T001005', '...             9  \n",
       "2  ['T001025', 'T001060', 'T001036', 'T001020', '...             6  \n",
       "3                             ['T001031', 'T001046']             2  \n",
       "4                  ['T001091', 'T001014', 'T001071']             3  "
      ]
     },
     "execution_count": 2,
     "metadata": {},
     "output_type": "execute_result"
    }
   ],
   "source": [
    "df_customers.head()"
   ]
  },
  {
   "cell_type": "code",
   "execution_count": 3,
   "metadata": {},
   "outputs": [
    {
     "data": {
      "text/html": [
       "<div>\n",
       "<style scoped>\n",
       "    .dataframe tbody tr th:only-of-type {\n",
       "        vertical-align: middle;\n",
       "    }\n",
       "\n",
       "    .dataframe tbody tr th {\n",
       "        vertical-align: top;\n",
       "    }\n",
       "\n",
       "    .dataframe thead th {\n",
       "        text-align: right;\n",
       "    }\n",
       "</style>\n",
       "<table border=\"1\" class=\"dataframe\">\n",
       "  <thead>\n",
       "    <tr style=\"text-align: right;\">\n",
       "      <th></th>\n",
       "      <th>terminal_id</th>\n",
       "      <th>lat_terminal</th>\n",
       "      <th>log_terminal</th>\n",
       "      <th>mcc</th>\n",
       "    </tr>\n",
       "  </thead>\n",
       "  <tbody>\n",
       "    <tr>\n",
       "      <th>0</th>\n",
       "      <td>T001000</td>\n",
       "      <td>38.6208</td>\n",
       "      <td>7.6337</td>\n",
       "      <td>780</td>\n",
       "    </tr>\n",
       "    <tr>\n",
       "      <th>1</th>\n",
       "      <td>T001001</td>\n",
       "      <td>40.5592</td>\n",
       "      <td>8.1003</td>\n",
       "      <td>763</td>\n",
       "    </tr>\n",
       "    <tr>\n",
       "      <th>2</th>\n",
       "      <td>T001002</td>\n",
       "      <td>38.1355</td>\n",
       "      <td>9.4507</td>\n",
       "      <td>5812</td>\n",
       "    </tr>\n",
       "    <tr>\n",
       "      <th>3</th>\n",
       "      <td>T001003</td>\n",
       "      <td>41.4007</td>\n",
       "      <td>8.5132</td>\n",
       "      <td>780</td>\n",
       "    </tr>\n",
       "    <tr>\n",
       "      <th>4</th>\n",
       "      <td>T001004</td>\n",
       "      <td>39.3881</td>\n",
       "      <td>8.5234</td>\n",
       "      <td>5813</td>\n",
       "    </tr>\n",
       "  </tbody>\n",
       "</table>\n",
       "</div>"
      ],
      "text/plain": [
       "  terminal_id  lat_terminal  log_terminal   mcc\n",
       "0     T001000       38.6208        7.6337   780\n",
       "1     T001001       40.5592        8.1003   763\n",
       "2     T001002       38.1355        9.4507  5812\n",
       "3     T001003       41.4007        8.5132   780\n",
       "4     T001004       39.3881        8.5234  5813"
      ]
     },
     "execution_count": 3,
     "metadata": {},
     "output_type": "execute_result"
    }
   ],
   "source": [
    "df_terminals.head()"
   ]
  },
  {
   "cell_type": "markdown",
   "metadata": {},
   "source": [
    "### 'entry_mode'"
   ]
  },
  {
   "cell_type": "code",
   "execution_count": 6,
   "metadata": {},
   "outputs": [
    {
     "data": {
      "image/png": "[encoded data removed]",
      "text/plain": [
       "<Figure size 640x480 with 1 Axes>"
      ]
     },
     "metadata": {},
     "output_type": "display_data"
    }
   ],
   "source": [
    "# df.entry_mode\n",
    "\n",
    "type_values = df.entry_mode.value_counts()\n",
    "\n",
    "plt.pie(\n",
    "    type_values.values,\n",
    "    labels=type_values.index,\n",
    "    autopct=lambda pct: f\"{pct:.1f}%\" if pct > 1 else \"\",\n",
    "    startangle=90,\n",
    "    wedgeprops={'edgecolor': 'black'}\n",
    ")\n",
    "plt.title(\"'entry_mode' values\")\n",
    "plt.show()"
   ]
  },
  {
   "cell_type": "markdown",
   "metadata": {},
   "source": [
    "### 'fraud_scenario'"
   ]
  },
  {
   "cell_type": "code",
   "execution_count": 7,
   "metadata": {},
   "outputs": [
    {
     "data": {
      "image/png": "[encoded data removed]",
      "text/plain": [
       "<Figure size 640x480 with 1 Axes>"
      ]
     },
     "metadata": {},
     "output_type": "display_data"
    }
   ],
   "source": [
    "# df.fraud_scenario\n",
    "\n",
    "type_values = df.fraud_scenario.value_counts()\n",
    "\n",
    "plt.pie(\n",
    "    type_values.values,\n",
    "    labels=type_values.index,\n",
    "    autopct=lambda pct: f\"{pct:.1f}%\" if pct > 1 else \"\",\n",
    "    startangle=90,\n",
    "    wedgeprops={'edgecolor': 'black'}\n",
    ")\n",
    "plt.title(\"'fraud_scenario' values\")\n",
    "plt.show()"
   ]
  },
  {
   "cell_type": "markdown",
   "metadata": {},
   "source": [
    "### 'fraud'"
   ]
  },
  {
   "cell_type": "code",
   "execution_count": 8,
   "metadata": {},
   "outputs": [
    {
     "data": {
      "image/png": "[encoded data removed]",
      "text/plain": [
       "<Figure size 640x480 with 1 Axes>"
      ]
     },
     "metadata": {},
     "output_type": "display_data"
    }
   ],
   "source": [
    "# df.fraud\n",
    "\n",
    "type_values = df.fraud.value_counts()\n",
    "\n",
    "plt.pie(\n",
    "    type_values.values,\n",
    "    labels=type_values.index,\n",
    "    autopct=lambda pct: f\"{pct:.1f}%\" if pct > 1 else \"\",\n",
    "    startangle=90,\n",
    "    wedgeprops={'edgecolor': 'black'}\n",
    ")\n",
    "plt.title(\"'fraud' values\")\n",
    "plt.show()"
   ]
  }
 ],
 "metadata": {
  "kernelspec": {
   "display_name": "aml",
   "language": "python",
   "name": "python3"
  },
  "language_info": {
   "codemirror_mode": {
    "name": "ipython",
    "version": 3
   },
   "file_extension": ".py",
   "mimetype": "text/x-python",
   "name": "python",
   "nbconvert_exporter": "python",
   "pygments_lexer": "ipython3",
   "version": "3.10.14"
  }
 },
 "nbformat": 4,
 "nbformat_minor": 2
}
